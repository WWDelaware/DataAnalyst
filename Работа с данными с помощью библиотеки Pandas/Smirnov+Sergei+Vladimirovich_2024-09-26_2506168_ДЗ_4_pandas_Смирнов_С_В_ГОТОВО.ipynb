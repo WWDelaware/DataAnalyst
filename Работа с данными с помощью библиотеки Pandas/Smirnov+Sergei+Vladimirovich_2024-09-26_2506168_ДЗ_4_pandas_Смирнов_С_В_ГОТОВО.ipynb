{
  "cells": [
    {
      "cell_type": "markdown",
      "metadata": {
        "id": "FuJKWXhejxXb"
      },
      "source": [
        "Будем работать с датасетом Pima Indian Diabetes - это набор данных из Национального института диабета, болезней органов пищеварения и почек. Целью набора данных является диагностическое прогнозирование наличия диабета у пациента. Несколько ограничений были наложены на выбор этих экземпляров из большой базы данных. В частности, все пациенты здесь - женщины в возрасте от 21 года, индийского происхождения."
      ]
    },
    {
      "cell_type": "markdown",
      "metadata": {
        "id": "2XR6YIKGjxXf"
      },
      "source": [
        "Описание данных:Pregnancies, Glucose, BloodPressure, SkinThickness, Insulin, Age\n",
        "\n",
        "- __Pregnancies__ - данная единица отображает количество беременностей, единицы измерения - целые числа от 0 до N. Тип переменной - количественная, дискретная.\n",
        "- __Glucose__ - данная единица отображает уровень глюкозы в крови, единицы измерения - целые числа. Тип переменной - количественная, дискретная.\n",
        "- __BloodPressure__ - данная единица отображает артериальное давление, единицы измерения - миллиметры р/с, целые числа. Тип переменной - количественная, дискретная.\n",
        "- __SkinThickness__ - данная единица отображает обхват трицепса в миллиметрах, целые числа. Тип переменной - количественная, дискретная.\n",
        "- __Insulin__ - данная единица отображает уровень инсулина в крови, целые числа. Тип переменной - количественная, дискретная.\n",
        "- __BMI__ - данная единица отображает индекс массы тела. Тип переменной - количественная, непрерывная.\n",
        "- __DiabetesPedigreeFunction__ - данная единица отображает риск наследственного диабета в зависимости наличия диабета у родственников. Выражается десятичной дробью от 0 до 1. Тип переменной - количественная, непрерывная.\n",
        "- __Age__ - данная единица отражает возраст в целых числах. Тип переменной - количественная, дискретная.\n",
        "- __Class__ - данная единица отражает наличие диабета у субъекта, выражена 0(здоров) или 1(болен). Тип переменной - категориальная, бинарная."
      ]
    },
    {
      "cell_type": "code",
      "execution_count": 1,
      "metadata": {
        "id": "_HNDttaRjxXY"
      },
      "outputs": [],
      "source": [
        "# Подключение библиотек\n",
        "import pandas as pd\n",
        "import numpy as np"
      ]
    },
    {
      "cell_type": "markdown",
      "metadata": {
        "id": "x0CsPO-4jxXg"
      },
      "source": [
        "**Задание 1.** Загрузите и ознакомьтесь с полученным набором данных."
      ]
    },
    {
      "cell_type": "code",
      "execution_count": 3,
      "metadata": {
        "id": "YM7mBdi_jxXh"
      },
      "outputs": [
        {
          "name": "stdout",
          "output_type": "stream",
          "text": [
            "   pregnancies  glucose  bloodpressure  skinthickness  insulin   bmi  \\\n",
            "0            6    148.0           72.0           35.0    125.0  33.6   \n",
            "1            1     85.0           66.0           29.0    125.0  26.6   \n",
            "2            8    183.0           64.0           29.0    125.0  23.3   \n",
            "3            1     89.0           66.0           23.0     94.0  28.1   \n",
            "4            0    137.0           40.0           35.0    168.0  43.1   \n",
            "\n",
            "   diabetespedigreefunction  age  class  \n",
            "0                     0.627   50      1  \n",
            "1                     0.351   31      0  \n",
            "2                     0.672   32      1  \n",
            "3                     0.167   21      0  \n",
            "4                     2.288   33      1  \n"
          ]
        }
      ],
      "source": [
        "# Ваш код здесь\n",
        "df = pd.read_csv('diabet.csv')\n",
        "print(df.head())"
      ]
    },
    {
      "cell_type": "markdown",
      "metadata": {
        "id": "KPgh0pgojxXl"
      },
      "source": [
        "**Задание 2.** Вычислите основные статистики (минимум, максимум, среднее, дисперсию) для всех столбцов."
      ]
    },
    {
      "cell_type": "code",
      "execution_count": 4,
      "metadata": {
        "id": "lBg_Pnt0jxXl"
      },
      "outputs": [
        {
          "name": "stdout",
          "output_type": "stream",
          "text": [
            "       pregnancies     glucose  bloodpressure  skinthickness     insulin  \\\n",
            "count   768.000000  768.000000     768.000000     768.000000  768.000000   \n",
            "mean      3.845052  121.656250      72.386719      29.108073  140.671875   \n",
            "std       3.369578   30.438286      12.096642       8.791221   86.383060   \n",
            "min       0.000000   44.000000      24.000000       7.000000   14.000000   \n",
            "25%       1.000000   99.750000      64.000000      25.000000  121.500000   \n",
            "50%       3.000000  117.000000      72.000000      29.000000  125.000000   \n",
            "75%       6.000000  140.250000      80.000000      32.000000  127.250000   \n",
            "max      17.000000  199.000000     122.000000      99.000000  846.000000   \n",
            "\n",
            "              bmi  diabetespedigreefunction         age       class  \n",
            "count  768.000000                768.000000  768.000000  768.000000  \n",
            "mean    32.457464                  0.471876   33.240885    0.348958  \n",
            "std      6.875151                  0.331329   11.760232    0.476951  \n",
            "min     18.200000                  0.078000   21.000000    0.000000  \n",
            "25%     27.500000                  0.243750   24.000000    0.000000  \n",
            "50%     32.400000                  0.372500   29.000000    0.000000  \n",
            "75%     36.600000                  0.626250   41.000000    1.000000  \n",
            "max     67.100000                  2.420000   81.000000    1.000000  \n"
          ]
        }
      ],
      "source": [
        "# Задание 2: Вычисление основных статистик\n",
        "print(df.describe())"
      ]
    },
    {
      "cell_type": "markdown",
      "metadata": {
        "id": "SE52n_IZjxXn"
      },
      "source": [
        "**Задание 3.** У скольких женщин старше 50 лет обнаружен диабет?"
      ]
    },
    {
      "cell_type": "code",
      "execution_count": 5,
      "metadata": {},
      "outputs": [
        {
          "name": "stdout",
          "output_type": "stream",
          "text": [
            "Женщин старше 50 лет с диабетом: 38\n"
          ]
        }
      ],
      "source": [
        "# Задание 3: У скольких женщин старше 50 лет обнаружен диабет?\n",
        "older_than_50_with_diabetes = df[(df['age'] > 50) & (df['class'] == 1)]\n",
        "print(f\"Женщин старше 50 лет с диабетом: {len(older_than_50_with_diabetes)}\")"
      ]
    },
    {
      "cell_type": "markdown",
      "metadata": {
        "id": "KrBezBxVjxXr"
      },
      "source": [
        "**Задание 4.** Найдите трех женщин с наибольшим числом беременностей."
      ]
    },
    {
      "cell_type": "code",
      "execution_count": 6,
      "metadata": {
        "id": "Tq3hY9kWrGT5"
      },
      "outputs": [
        {
          "name": "stdout",
          "output_type": "stream",
          "text": [
            "Три женщины с наибольшим числом беременностей:\n",
            "     pregnancies  age\n",
            "159           17   47\n",
            "88            15   43\n",
            "298           14   46\n"
          ]
        }
      ],
      "source": [
        "# Задание 4: Найдите трех женщин с наибольшим числом беременностей.\n",
        "top_pregnancies = df.nlargest(3, 'pregnancies')\n",
        "print(\"Три женщины с наибольшим числом беременностей:\")\n",
        "print(top_pregnancies[['pregnancies', 'age']])"
      ]
    },
    {
      "cell_type": "markdown",
      "metadata": {
        "id": "NHPD5gpWjxXu"
      },
      "source": [
        "**Задание 5.** Сколько женщин возраста между 30 и 40 успело родить 3 или более детей?"
      ]
    },
    {
      "cell_type": "code",
      "execution_count": 7,
      "metadata": {
        "id": "L2lAFkO3Zbm-"
      },
      "outputs": [
        {
          "name": "stdout",
          "output_type": "stream",
          "text": [
            "Женщин возраста между 30 и 40 с 3 или более детьми: 142\n"
          ]
        }
      ],
      "source": [
        "# Задание 5: Сколько женщин возраста между 30 и 40 успело родить 3 или более детей?\n",
        "women_30_40_with_3_kids = df[(df['age'] >= 30) & (df['age'] <= 40) & (df['pregnancies'] >= 3)]\n",
        "print(f\"Женщин возраста между 30 и 40 с 3 или более детьми: {len(women_30_40_with_3_kids)}\")"
      ]
    },
    {
      "cell_type": "markdown",
      "metadata": {
        "id": "Iwjda-nSjxXy"
      },
      "source": [
        "**Задание 6.** Нормальным кровяным давлением будем считать давление в диапазоне [80-89]. У какого процента женщин давление нормальное?"
      ]
    },
    {
      "cell_type": "code",
      "execution_count": 8,
      "metadata": {
        "id": "jjy6ra1RjxXz"
      },
      "outputs": [
        {
          "name": "stdout",
          "output_type": "stream",
          "text": [
            "Процент женщин с нормальным давлением: 18.88%\n"
          ]
        }
      ],
      "source": [
        "# Задание 6: У какого процента женщин давление нормальное?\n",
        "normal_bp = df[(df['bloodpressure'] >= 80) & (df['bloodpressure'] <= 89)]\n",
        "percentage_normal_bp = (len(normal_bp) / len(df)) * 100\n",
        "print(f\"Процент женщин с нормальным давлением: {percentage_normal_bp:.2f}%\")"
      ]
    },
    {
      "cell_type": "markdown",
      "metadata": {
        "id": "4KhYpSOBjxX1"
      },
      "source": [
        "**Задание 7.** Считается, что BMI >= 30 - это признак ожирения.\n",
        "У скольких женщин с признаками ожирения кровяное давление выше среднего?"
      ]
    },
    {
      "cell_type": "code",
      "execution_count": 9,
      "metadata": {
        "id": "uBz8FcB4jxX1"
      },
      "outputs": [
        {
          "name": "stdout",
          "output_type": "stream",
          "text": [
            "Женщин с ожирением и давлением выше среднего: 251\n"
          ]
        }
      ],
      "source": [
        "# Задание 7: У скольких женщин с признаками ожирения кровяное давление выше среднего?\n",
        "obese_women = df[df['bmi'] >= 30]\n",
        "average_bp = df['bloodpressure'].mean()\n",
        "obese_with_high_bp = obese_women[obese_women['bloodpressure'] > average_bp]\n",
        "print(f\"Женщин с ожирением и давлением выше среднего: {len(obese_with_high_bp)}\")"
      ]
    },
    {
      "cell_type": "markdown",
      "metadata": {
        "id": "JTQ_IValjxX3"
      },
      "source": [
        "**Задание 8.** Сравните средние значения для признаков __Glucose,\tBloodPressure,\tInsulin__ среди тех, у кого обнаружен диабет, и тех, у кого его нет."
      ]
    },
    {
      "cell_type": "code",
      "execution_count": 10,
      "metadata": {
        "id": "qEoifUyjjxX3"
      },
      "outputs": [
        {
          "name": "stdout",
          "output_type": "stream",
          "text": [
            "Средние значения для диабетиков:\n",
            "glucose          142.130597\n",
            "bloodpressure     75.123134\n",
            "insulin          164.701493\n",
            "dtype: float64\n",
            "Средние значения для не диабетиков:\n",
            "glucose          110.682\n",
            "bloodpressure     70.920\n",
            "insulin          127.792\n",
            "dtype: float64\n"
          ]
        }
      ],
      "source": [
        "# Задание 8: Сравните средние значения для признаков Glucose, BloodPressure, Insulin среди тех, у кого обнаружен диабет, и тех, у кого его нет.\n",
        "diabetic_mean = df[df['class'] == 1][['glucose', 'bloodpressure', 'insulin']].mean()\n",
        "non_diabetic_mean = df[df['class'] == 0][['glucose', 'bloodpressure', 'insulin']].mean()\n",
        "print(\"Средние значения для диабетиков:\")\n",
        "print(diabetic_mean)\n",
        "print(\"Средние значения для не диабетиков:\")\n",
        "print(non_diabetic_mean)"
      ]
    },
    {
      "cell_type": "markdown",
      "metadata": {
        "id": "lQUXC7FqjxYM"
      },
      "source": [
        "**Задание 9.** Добавьте новый бинарный признак:\n",
        "\n",
        "__wasPregnant__ $\\in$ {0,1} - была женщина беременна (1) или нет (0)"
      ]
    },
    {
      "cell_type": "code",
      "execution_count": 17,
      "metadata": {
        "id": "iOH2LVQzjxYN"
      },
      "outputs": [
        {
          "name": "stdout",
          "output_type": "stream",
          "text": [
            "   pregnancies  glucose  bloodpressure  skinthickness  insulin   bmi  \\\n",
            "0            6    148.0           72.0           35.0    125.0  33.6   \n",
            "1            1     85.0           66.0           29.0    125.0  26.6   \n",
            "2            8    183.0           64.0           29.0    125.0  23.3   \n",
            "3            1     89.0           66.0           23.0     94.0  28.1   \n",
            "4            0    137.0           40.0           35.0    168.0  43.1   \n",
            "\n",
            "   diabetespedigreefunction  age  class  wasPregnant       bodyType  \n",
            "0                     0.627   50      1            1        Obesity  \n",
            "1                     0.351   31      0            1     Overweight  \n",
            "2                     0.672   32      1            1  Normal weight  \n",
            "3                     0.167   21      0            1     Overweight  \n",
            "4                     2.288   33      1            0        Obesity  \n"
          ]
        }
      ],
      "source": [
        "# Задание 9: Добавьте новый бинарный признак wasPregnant\n",
        "df['wasPregnant'] = df['pregnancies'].apply(lambda x: 1 if x > 0 else 0)\n",
        "\n",
        "# Отображение обновленного датасета\n",
        "print(df.head())"
      ]
    },
    {
      "cell_type": "markdown",
      "metadata": {
        "id": "lz7v-028jxYP"
      },
      "source": [
        "**Задание 10.** Сравните процент больных диабетом среди женщин, которые были беременны и не были."
      ]
    },
    {
      "cell_type": "code",
      "execution_count": 13,
      "metadata": {
        "id": "tYI4Ef4CXhkb"
      },
      "outputs": [
        {
          "name": "stdout",
          "output_type": "stream",
          "text": [
            "Процент диабетиков среди бывших беременных: 35.01%\n",
            "Процент диабетиков среди не бывших беременных: 34.23%\n"
          ]
        }
      ],
      "source": [
        "# Задание 10: Сравните процент больных диабетом среди женщин, которые были беременны и не были.\n",
        "pregnant_diabetic_percentage = df[df['wasPregnant'] == 1]['class'].mean() * 100\n",
        "non_pregnant_diabetic_percentage = df[df['wasPregnant'] == 0]['class'].mean() * 100\n",
        "print(f\"Процент диабетиков среди бывших беременных: {pregnant_diabetic_percentage:.2f}%\")\n",
        "print(f\"Процент диабетиков среди не бывших беременных: {non_pregnant_diabetic_percentage:.2f}%\")"
      ]
    },
    {
      "cell_type": "markdown",
      "metadata": {
        "id": "JFvXThqxjxYS"
      },
      "source": [
        "**Задание 11.** Добавьте новый категориальный признак __bodyType__ на основе столбца BMI:\n",
        "\n",
        "__BMI Categories:__\n",
        "\n",
        "Underweight = <18.5\n",
        "\n",
        "Normal weight = 18.5–24.9\n",
        "\n",
        "Overweight = 25–29.9\n",
        "\n",
        "Obesity = BMI of 30 or greater\n",
        "\n",
        "Признак должен принимать значения Underweight, Normal weight, Overweight и Obesity."
      ]
    },
    {
      "cell_type": "code",
      "execution_count": 16,
      "metadata": {
        "id": "MZTrFpp2jxYS"
      },
      "outputs": [
        {
          "name": "stdout",
          "output_type": "stream",
          "text": [
            "   pregnancies  glucose  bloodpressure  skinthickness  insulin   bmi  \\\n",
            "0            6    148.0           72.0           35.0    125.0  33.6   \n",
            "1            1     85.0           66.0           29.0    125.0  26.6   \n",
            "2            8    183.0           64.0           29.0    125.0  23.3   \n",
            "3            1     89.0           66.0           23.0     94.0  28.1   \n",
            "4            0    137.0           40.0           35.0    168.0  43.1   \n",
            "\n",
            "   diabetespedigreefunction  age  class  wasPregnant       bodyType  \n",
            "0                     0.627   50      1            1        Obesity  \n",
            "1                     0.351   31      0            1     Overweight  \n",
            "2                     0.672   32      1            1  Normal weight  \n",
            "3                     0.167   21      0            1     Overweight  \n",
            "4                     2.288   33      1            0        Obesity  \n"
          ]
        }
      ],
      "source": [
        "# Задание 11: Добавьте новый категориальный признак bodyType на основе столбца BMI\n",
        "def categorize_bmi(bmi):\n",
        "    if bmi < 18.5:\n",
        "        return 'Underweight'\n",
        "    elif 18.5 <= bmi < 25:\n",
        "        return 'Normal weight'\n",
        "    elif 25 <= bmi < 30:\n",
        "        return 'Overweight'\n",
        "    else:\n",
        "        return 'Obesity'\n",
        "\n",
        "df['bodyType'] = df['bmi'].apply(categorize_bmi)\n",
        "\n",
        "# Отображение обновленного датасета\n",
        "print(df.head())"
      ]
    },
    {
      "cell_type": "markdown",
      "metadata": {
        "id": "9mGxubgGjxYU"
      },
      "source": [
        "**Задание 12.** Будем считать \"здоровыми\" тех, у кого нормальный вес и кровяное давление. Какой процент \"здоровых\" женщин больны диабетом?"
      ]
    },
    {
      "cell_type": "code",
      "execution_count": 15,
      "metadata": {
        "id": "VCladOh45Zwp"
      },
      "outputs": [
        {
          "name": "stdout",
          "output_type": "stream",
          "text": [
            "Процент 'здоровых' женщин с диабетом: 10.00%\n"
          ]
        }
      ],
      "source": [
        "# Задание 12: Какой процент \"здоровых\" женщин больны диабетом?\n",
        "healthy_women = df[(df['bodyType'] == 'Normal weight') & (df['bloodpressure'] >= 80) & (df['bloodpressure'] <= 89)]\n",
        "healthy_diabetic_percentage = healthy_women['class'].mean() * 100\n",
        "print(f\"Процент 'здоровых' женщин с диабетом: {healthy_diabetic_percentage:.2f}%\")"
      ]
    }
  ],
  "metadata": {
    "colab": {
      "provenance": []
    },
    "kernelspec": {
      "display_name": "Python 3",
      "language": "python",
      "name": "python3"
    },
    "language_info": {
      "codemirror_mode": {
        "name": "ipython",
        "version": 3
      },
      "file_extension": ".py",
      "mimetype": "text/x-python",
      "name": "python",
      "nbconvert_exporter": "python",
      "pygments_lexer": "ipython3",
      "version": "3.11.2"
    }
  },
  "nbformat": 4,
  "nbformat_minor": 0
}
