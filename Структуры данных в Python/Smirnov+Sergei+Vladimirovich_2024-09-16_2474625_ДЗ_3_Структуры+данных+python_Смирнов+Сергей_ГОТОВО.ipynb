{
  "cells": [
    {
      "cell_type": "markdown",
      "metadata": {
        "id": "1jPReH5d8bSh"
      },
      "source": [
        "# Структуры. Функции"
      ]
    },
    {
      "cell_type": "markdown",
      "metadata": {
        "id": "0SOwEuW08pIX"
      },
      "source": [
        "**Задание 1.** Напишите функцию для нахождения площади круга.\n",
        "\n",
        "Напомним, что площадь круга вычисляется по следующей формуле\n",
        "$$S = \\pi r^2,$$\n",
        "где $r$ -- радиус круга.\n",
        "\n",
        "Формат выполнения задания:\n",
        "\n",
        "```python\n",
        "#определение функции\n",
        "def f.....\n",
        "\n",
        "#вызов функции и результат ее работы\n",
        "f(1)\n",
        "Площадь круга радиуса 1 равна 3.14 кв.ед.\n",
        "```\n",
        "\n"
      ]
    },
    {
      "cell_type": "code",
      "execution_count": 1,
      "metadata": {
        "id": "teyrAJVC8bCI"
      },
      "outputs": [
        {
          "name": "stdout",
          "output_type": "stream",
          "text": [
            "Площадь круга радиуса 1 равна 3.14 кв.ед.\n"
          ]
        }
      ],
      "source": [
        "import math\n",
        "\n",
        "# Определение функции\n",
        "def calculate_circle_area(radius):\n",
        "    area = math.pi * (radius ** 2)\n",
        "    return f\"Площадь круга радиуса {radius} равна {area:.2f} кв.ед.\"\n",
        "\n",
        "# Вызов функции и результат ее работы\n",
        "print(calculate_circle_area(1))"
      ]
    },
    {
      "cell_type": "markdown",
      "metadata": {
        "id": "BQP8xMfH-IBu"
      },
      "source": [
        "Задание 2. Напишите функцию для нахождения суммы `n` элементов списка.  Если `n` не задано, то функция должна возвращать сумму всех элементов списка. Список значений и `n` задаются пользователем произвольно (либо через клавиатуру, либо через переменные).\n",
        "\n",
        "Формат выполнения задания:\n",
        "\n",
        "```python\n",
        "#определение функции\n",
        "def s.....\n",
        "\n",
        "#вызов функции и результат ее работы\n",
        "list_example = range(-10, 10)\n",
        "n = 2\n",
        "s(list_example, n)\n",
        "Сумма элементов -10, -9 равна -19.\n",
        "\n",
        "s(list_example)\n",
        "Сумма всех элементов списка равна -10.\n",
        "```\n"
      ]
    },
    {
      "cell_type": "code",
      "execution_count": 2,
      "metadata": {
        "colab": {
          "base_uri": "https://localhost:8080/"
        },
        "id": "KeIvINa2_xRJ",
        "outputId": "5c4a3cca-16a8-4b27-c7aa-a99aa824c6bf"
      },
      "outputs": [
        {
          "name": "stdout",
          "output_type": "stream",
          "text": [
            "Сумма элементов -10, -9 равна -19.\n",
            "Сумма всех элементов списка равна -10.\n"
          ]
        }
      ],
      "source": [
        "# Определение функции\n",
        "def sum_elements(lst, n=None):\n",
        "    if n is None:\n",
        "        # Если n не задано, суммируем все элементы списка\n",
        "        total_sum = sum(lst)\n",
        "        return f\"Сумма всех элементов списка равна {total_sum}.\"\n",
        "    else:\n",
        "        # Если n задано, суммируем первые n элементов списка\n",
        "        if n > len(lst):\n",
        "            n = len(lst)  # Если n больше длины списка, суммируем все элементы\n",
        "        total_sum = sum(lst[:n])\n",
        "        elements = ', '.join(map(str, lst[:n]))\n",
        "        return f\"Сумма элементов {elements} равна {total_sum}.\"\n",
        "\n",
        "# Примеры вызова функции\n",
        "list_example = list(range(-10, 10))\n",
        "n = 2\n",
        "print(sum_elements(list_example, n))  # Сумма элементов -10, -9 равна -19.\n",
        "\n",
        "print(sum_elements(list_example))  # Сумма всех элементов списка равна -10.\n"
      ]
    },
    {
      "cell_type": "markdown",
      "metadata": {
        "id": "9KvN_a0TDMUe"
      },
      "source": [
        "Задание 3. Пусть общий доход складывается только из следующих источников: заработной платы, доходов по вкладам, дивидентов, пособия. Напишите функцию, рассчитывающую для Вас общий доход. Предполагается, что некоторых источников дохода у Вас может не быть. Попробуйте задать параметры в виде 1) кортежа; 2) словаря.\n",
        "\n",
        "\n",
        "Формат выполнения задания:\n",
        "\n",
        "```python\n",
        "#определение функций\n",
        "def income.....\n",
        "\n",
        "#вызов функциb и результат ее работы\n",
        "income(100)\n",
        "Общий доход равен 100.\n",
        "\n",
        "income(100, 10)\n",
        "Общий доход равен 1010.\n",
        "```"
      ]
    },
    {
      "cell_type": "code",
      "execution_count": 7,
      "metadata": {
        "id": "adDyNSDGC7pP"
      },
      "outputs": [
        {
          "name": "stdout",
          "output_type": "stream",
          "text": [
            "Общий доход равен 100.\n",
            "Общий доход равен 110.\n",
            "Общий доход равен 180.\n"
          ]
        }
      ],
      "source": [
        "# Определение функции с параметрами в виде кортежа\n",
        "def income_tuple(*sources):\n",
        "    total_income = sum(sources)\n",
        "    return f\"Общий доход равен {total_income}.\"\n",
        "\n",
        "# Примеры вызова функции\n",
        "print(income_tuple(100))  # Общий доход равен 100.\n",
        "print(income_tuple(100, 10))  # Общий доход равен 110.\n",
        "print(income_tuple(100, 10, 50, 20))  # Общий доход равен 180."
      ]
    },
    {
      "cell_type": "code",
      "execution_count": 8,
      "metadata": {
        "id": "7fB473z_b0Hx"
      },
      "outputs": [
        {
          "name": "stdout",
          "output_type": "stream",
          "text": [
            "Общий доход равен 100.\n",
            "Общий доход равен 110.\n",
            "Общий доход равен 180.\n"
          ]
        }
      ],
      "source": [
        "# Определение функции с параметрами в виде словаря\n",
        "def income_dict(**sources):\n",
        "    total_income = sum(sources.values())\n",
        "    return f\"Общий доход равен {total_income}.\"\n",
        "\n",
        "# Примеры вызова функции\n",
        "print(income_dict(salary=100))  # Общий доход равен 100.\n",
        "print(income_dict(salary=100, interest=10))  # Общий доход равен 110.\n",
        "print(income_dict(salary=100, interest=10, dividends=50, benefits=20))  # Общий доход равен 180."
      ]
    }
  ],
  "metadata": {
    "colab": {
      "provenance": []
    },
    "kernelspec": {
      "display_name": "Python 3",
      "name": "python3"
    },
    "language_info": {
      "codemirror_mode": {
        "name": "ipython",
        "version": 3
      },
      "file_extension": ".py",
      "mimetype": "text/x-python",
      "name": "python",
      "nbconvert_exporter": "python",
      "pygments_lexer": "ipython3",
      "version": "3.11.2"
    }
  },
  "nbformat": 4,
  "nbformat_minor": 0
}
