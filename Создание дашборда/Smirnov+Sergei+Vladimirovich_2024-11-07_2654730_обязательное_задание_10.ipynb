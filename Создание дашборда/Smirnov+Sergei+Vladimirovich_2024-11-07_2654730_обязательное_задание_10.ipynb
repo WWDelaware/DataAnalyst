{
 "cells": [
  {
   "cell_type": "markdown",
   "metadata": {
    "id": "HnvGq8SYQ03O"
   },
   "source": [
    "Кейс: a/b-тест для мобильного приложения.\n",
    "\n",
    "Имеется мобильное приложение для магазина по продаже продуктов питания. Выдвинута гипотеза о том, что смена шрифтов улучшит качество обслуживания по количеству клиентов, совершающих каждое событие. Для проверки этой гипотезы принято решение провести A/B-тест.   \n",
    "\n",
    "Договорились принять решение по результатам A/B-теста.\n",
    "Пользователей разбили на 2 группы: 247 -- контрольная группа со старыми шрифтами; 248 -- экспериментальная с новыми шрифтами.\n",
    "\n",
    "Описание данных\n",
    "\n",
    "|Признак|Комментарий|\n",
    "|--:|:--|\n",
    "|`EventName`|название события|\n",
    "|`DeviceIDHash`|уникальный идентификатор пользователя|\n",
    "|`EventTimestamp`|время события|\n",
    "|`ExpId`|номер группы|\n",
    "\n",
    "Инструкция по выполнению проекта\n",
    "\n",
    "Шаг 1. Загрузите данные\n",
    "- Знакомство с данными;\n",
    "- Корректность a/b-теста.\n",
    "\n",
    "Шаг 2. Подготовьте данные\n",
    "- Корректировка заголовков;\n",
    "- Типы данных;\n",
    "- Аномалии пропуски.\n",
    "\n",
    "Шаг 3. EDA\n",
    "- Cколько всего событий?\n",
    "- Сколько всего пользователей в логе?\n",
    "- Сколько в среднем событий приходится на пользователя?\n",
    "- Период теста: максимальная и минимальная даты; гистограмма по дате и количеству событий.\n",
    "\n",
    "Шаг 4. Анализ воронки событий\n",
    "- Распределение событий: какие события и в каком количестве.\n",
    "- Сколько пользователей совершали каждое из этих событий?\n",
    "- Постройте воронку событий: какая доля пользователей проходит на следующий шаг воронки. На каком шаге теряете больше всего пользователей?\n",
    "Какая доля пользователей доходит от первого события до оплаты?\n",
    "\n",
    "Шаг 5. Анализ результатов эксперимента\n",
    "- Сколько пользователей в каждой группе?\n",
    "- Посчитайте долю пользователей, совершивших каждое из событий.\n",
    "- Проверьте гипотезу о наличие значимых отличий по результатам теста.\n",
    "\n",
    "С помощью Yandex DataLens создайте дашборд, отвечащий на следующие вопросы:\n",
    "- сколько уникальных клиентов в группах 247 и 248;\n",
    "- сколько уникальных клиентов совершили события по каждой группе;\n",
    "- по каждой группе построить распределение количества событий по времени.\n",
    "\n",
    "Ссылку на дашборд прикрепите к настоящей тетради."
   ]
  },
  {
   "cell_type": "code",
   "execution_count": 137,
   "metadata": {},
   "outputs": [],
   "source": [
    "import pandas as pd\n",
    "import re\n",
    "import matplotlib.pyplot as plt\n",
    "import seaborn as sns\n",
    "import datetime"
   ]
  },
  {
   "cell_type": "code",
   "execution_count": 16,
   "metadata": {},
   "outputs": [
    {
     "name": "stdout",
     "output_type": "stream",
     "text": [
      "<class 'pandas.core.frame.DataFrame'>\n",
      "RangeIndex: 244126 entries, 0 to 244125\n",
      "Data columns (total 4 columns):\n",
      " #   Column          Non-Null Count   Dtype \n",
      "---  ------          --------------   ----- \n",
      " 0   EventName       244126 non-null  object\n",
      " 1   DeviceIDHash    244126 non-null  int64 \n",
      " 2   EventTimestamp  244126 non-null  int64 \n",
      " 3   ExpId           244126 non-null  int64 \n",
      "dtypes: int64(3), object(1)\n",
      "memory usage: 7.5+ MB\n"
     ]
    }
   ],
   "source": [
    "# Шаг 1. Загрузите данные\n",
    "# Знакомство с данными;\n",
    "df = pd.read_csv('./ab_testing.csv',  sep='\\x09')\n",
    "df.info()"
   ]
  },
  {
   "cell_type": "code",
   "execution_count": 26,
   "metadata": {
    "scrolled": false
   },
   "outputs": [
    {
     "name": "stdout",
     "output_type": "stream",
     "text": [
      "ExpId[246]&ExpId[247] == set()\n",
      "ExpId[246]&ExpId[248] == set()\n",
      "ExpId[247]&ExpId[248] == set()\n"
     ]
    }
   ],
   "source": [
    "# Корректность a/b-теста.\n",
    "# Проверка на членство одного Id в нескольких группах\n",
    "devIdDict = {grname: set(dfg) for grname,dfg in df.groupby('ExpId')['DeviceIDHash']}\n",
    "keys = list(devIdDict.keys())\n",
    "for i,gr0 in enumerate(keys):\n",
    "    for gr1 in keys[i+1:]:\n",
    "        print('ExpId[%d]&ExpId[%d] =='%(gr0, gr1), devIdDict[gr0] & devIdDict[gr1])"
   ]
  },
  {
   "cell_type": "code",
   "execution_count": 207,
   "metadata": {
    "scrolled": false
   },
   "outputs": [
    {
     "name": "stdout",
     "output_type": "stream",
     "text": [
      "Все заголовки являются верными идентификаторами Python\n"
     ]
    }
   ],
   "source": [
    "# Шаг 2. Подготовьте данные\n",
    "# Корректировка заголовков;\n",
    "headertext=\"\"\"|`EventName`|название события|\n",
    "|`DeviceIDHash`|уникальный идентификатор пользователя|\n",
    "|`EventTimestamp`|время события|\n",
    "|`ExpId`|номер группы|\"\"\"\n",
    "re_extract_header = re.compile(r'\\s*[|][`]([\\w\\s]+)[`][|]([\\w\\s]+)[|]')\n",
    "header_translate_dict = dict(map(lambda x: re_extract_header.fullmatch(x).groups(), headertext.split('\\n')))\n",
    "invert = lambda d: dict(map(reversed, d.items()))\n",
    "dth = header_translate_dict\n",
    "\n",
    "re_valid_python_identifier = re.compile(r'[\\w_][\\w\\d\\_]*')\n",
    "if all(map(re_valid_python_identifier.fullmatch, df.columns)):\n",
    "    print('Все заголовки являются верными идентификаторами Python')"
   ]
  },
  {
   "cell_type": "code",
   "execution_count": 208,
   "metadata": {},
   "outputs": [
    {
     "name": "stdout",
     "output_type": "stream",
     "text": [
      "<class 'pandas.core.frame.DataFrame'>\n",
      "RangeIndex: 244126 entries, 0 to 244125\n",
      "Data columns (total 4 columns):\n",
      " #   Column          Non-Null Count   Dtype         \n",
      "---  ------          --------------   -----         \n",
      " 0   EventName       244126 non-null  category      \n",
      " 1   DeviceIDHash    244126 non-null  int64         \n",
      " 2   EventTimestamp  244126 non-null  datetime64[ns]\n",
      " 3   ExpId           244126 non-null  int64         \n",
      "dtypes: category(1), datetime64[ns](1), int64(2)\n",
      "memory usage: 5.8 MB\n"
     ]
    }
   ],
   "source": [
    "# Типы данных;\n",
    "df['EventTimestamp'] = pd.to_datetime(df['EventTimestamp'], unit='s')  # изменяет df\n",
    "# print(df['EventName'].unique())\n",
    "event_dtype = pd.CategoricalDtype(['Tutorial','MainScreenAppear','OffersScreenAppear',\n",
    "                                   'CartScreenAppear','PaymentScreenSuccessful'], ordered=True)\n",
    "df['EventName'] = df['EventName'].astype(event_dtype)\n",
    "df.info()"
   ]
  },
  {
   "cell_type": "code",
   "execution_count": 209,
   "metadata": {},
   "outputs": [
    {
     "name": "stdout",
     "output_type": "stream",
     "text": [
      "Дубликаты (413) составляют 0.17% от общего числа записей (244126)\n",
      "Дубликаты удалены\n",
      "Пропуски отсутствуют\n"
     ]
    }
   ],
   "source": [
    "# Аномалии пропуски.\n",
    "# повторы\n",
    "# df[df.duplicated(keep=False)].sort_values('DeviceIDHash').head(20)  # вероятно повторные события\n",
    "sz, dupes = df.index.size, df.duplicated().sum()\n",
    "print('Дубликаты (%d) составляют %.2f%% от общего числа записей (%d)' % (dupes, 100*dupes/sz, sz))\n",
    "df2 = df.drop_duplicates()\n",
    "print('Дубликаты удалены')\n",
    "\n",
    "if df2.isna().sum().sum() == 0:\n",
    "    print('Пропуски отсутствуют')"
   ]
  },
  {
   "cell_type": "code",
   "execution_count": 210,
   "metadata": {
    "scrolled": false
   },
   "outputs": [
    {
     "name": "stdout",
     "output_type": "stream",
     "text": [
      "Всего клиентов: 7551\n",
      "Всего событий: 243713\n",
      "Среднее число событий на пользователя: 32.27559263673685\n",
      "Медианное число событий на пользователя: 20.0\n"
     ]
    },
    {
     "data": {
      "text/html": [
       "<div>\n",
       "<style scoped>\n",
       "    .dataframe tbody tr th:only-of-type {\n",
       "        vertical-align: middle;\n",
       "    }\n",
       "\n",
       "    .dataframe tbody tr th {\n",
       "        vertical-align: top;\n",
       "    }\n",
       "\n",
       "    .dataframe thead th {\n",
       "        text-align: right;\n",
       "    }\n",
       "</style>\n",
       "<table border=\"1\" class=\"dataframe\">\n",
       "  <thead>\n",
       "    <tr style=\"text-align: right;\">\n",
       "      <th></th>\n",
       "      <th>счёт</th>\n",
       "      <th>% от всех пользователей</th>\n",
       "      <th>% от всех событий</th>\n",
       "      <th>верхний предел</th>\n",
       "    </tr>\n",
       "  </thead>\n",
       "  <tbody>\n",
       "    <tr>\n",
       "      <th>whisker</th>\n",
       "      <td>494</td>\n",
       "      <td>6.542180</td>\n",
       "      <td>33.348242</td>\n",
       "      <td>79</td>\n",
       "    </tr>\n",
       "    <tr>\n",
       "      <th>median 98%</th>\n",
       "      <td>76</td>\n",
       "      <td>1.006489</td>\n",
       "      <td>14.106757</td>\n",
       "      <td>199</td>\n",
       "    </tr>\n",
       "  </tbody>\n",
       "</table>\n",
       "</div>"
      ],
      "text/plain": [
       "            счёт  % от всех пользователей  % от всех событий  верхний предел\n",
       "whisker      494                 6.542180          33.348242              79\n",
       "median 98%    76                 1.006489          14.106757             199"
      ]
     },
     "metadata": {},
     "output_type": "display_data"
    },
    {
     "data": {
      "text/plain": [
       "DeviceIDHash\n",
       "6304868067479728361    2307\n",
       "197027893265565660     1998\n",
       "4623191541214045580    1768\n",
       "6932517045703054087    1439\n",
       "1754140665440434215    1221\n",
       "3337471580007169353    1186\n",
       "7738058666231999878     888\n",
       "1055544042902443290     854\n",
       "4713748699910253089     824\n",
       "8118046800480174342     755\n",
       "dtype: int64"
      ]
     },
     "metadata": {},
     "output_type": "display_data"
    },
    {
     "name": "stdout",
     "output_type": "stream",
     "text": [
      "\u001b[0;31;40mОтсеяно 76 клиентов (35372 событий)\u001b[0m\n"
     ]
    },
    {
     "data": {
      "image/png": "[encoded data removed]",
      "text/plain": [
       "<Figure size 800x500 with 1 Axes>"
      ]
     },
     "metadata": {},
     "output_type": "display_data"
    }
   ],
   "source": [
    "# Аномалии\n",
    "def whisker_filter(series):\n",
    "    k = 1.5\n",
    "    high, low = series.quantile(.75), series.quantile(.25)\n",
    "    iqr = high -low\n",
    "    high, low = high +k*iqr, low -k*iqr\n",
    "    return ~series.between(low, high, 'both')\n",
    "\n",
    "def median_filter(series, fraction):\n",
    "    high, low = series.quantile(.5 +fraction/2), series.quantile(.5 -fraction/2)\n",
    "    return ~series.between(low, high, 'both')\n",
    "\n",
    "\n",
    "df_user_activity = df2.groupby('DeviceIDHash').size()\n",
    "print('Всего клиентов:', df_user_activity.size)\n",
    "print('Всего событий:', df_user_activity.sum())\n",
    "print('Среднее число событий на пользователя:', df_user_activity.mean())\n",
    "print('Медианное число событий на пользователя:', df_user_activity.median())\n",
    "\n",
    "anomalies = [whisker_filter(df_user_activity), median_filter(df_user_activity, fraction=.98)]\n",
    "\n",
    "display(pd.DataFrame({'счёт': map(sum, anomalies), \n",
    "                      '% от всех пользователей': map(lambda x: 100*x.sum()/x.size, anomalies),\n",
    "                      '% от всех событий': map(lambda x: 100*df_user_activity[x].sum()/df_user_activity.sum(), anomalies),\n",
    "                      'верхний предел': map(lambda x: df_user_activity[~x].max(), anomalies)}, \n",
    "                     index=['whisker', 'median 98%']))\n",
    "display(df_user_activity[anomalies_whisker].sort_values(ascending=False).head(10))\n",
    "\n",
    "plt.figure(figsize=(8, 5))\n",
    "# sns.histplot(df_user_activity, stat='count')\n",
    "\n",
    "barcnt = 20\n",
    "bardata = dict()\n",
    "for i in range(barcnt):\n",
    "    high, low = df_user_activity.quantile((i+1)/barcnt), df_user_activity.quantile(i/barcnt)\n",
    "    bardata[i/barcnt] = df_user_activity[df_user_activity.between(low, high)].sum()\n",
    "sns.barplot(pd.DataFrame({'cnt_events':bardata.values(), 'user_fraction':bardata.keys()}), \n",
    "            x='user_fraction', y='cnt_events')\n",
    "\n",
    "anomalous_ids = set(df_user_activity.index[median_filter(df_user_activity, fraction=.98)])\n",
    "df3 = df2[~df2['DeviceIDHash'].isin(anomalous_ids)]    # Удалить подозрительно активных\n",
    "df3 = df3[df3['EventName'] != 'Tutorial']              # Удалить ненужный класс событий\n",
    "print('\\x1b[0;31;40mОтсеяно %d клиентов (%d событий)\\x1b[0m' % (len(anomalous_ids), df2.index.size-df3.index.size))"
   ]
  },
  {
   "cell_type": "code",
   "execution_count": 211,
   "metadata": {},
   "outputs": [
    {
     "name": "stdout",
     "output_type": "stream",
     "text": [
      "Всего 208341 событий\n",
      "Всего 7471 пользователей\n",
      "В среднем на пользователя приходится 27.886628 событий\n",
      "Минимальная дата: 25/07/'19\n",
      "Максимальная дата: 07/08/'19\n",
      "отсеяно 2707 событий до начала теста\n"
     ]
    },
    {
     "data": {
      "image/png": "[encoded data removed]",
      "text/plain": [
       "<Figure size 640x480 with 1 Axes>"
      ]
     },
     "metadata": {},
     "output_type": "display_data"
    }
   ],
   "source": [
    "# Шаг 3. EDA\n",
    "# Cколько всего событий?\n",
    "print('Всего %d событий' % df3.index.size)\n",
    "\n",
    "# Сколько всего пользователей в логе?\n",
    "print('Всего %d пользователей' % df3['DeviceIDHash'].nunique())\n",
    "\n",
    "# Сколько в среднем событий приходится на пользователя?\n",
    "print('В среднем на пользователя приходится %f событий' % df3.groupby('DeviceIDHash').size().mean())\n",
    "\n",
    "# Период теста: максимальная и минимальная даты; \n",
    "fmt_spec = r\"%d/%m/'%y\"\n",
    "print('Минимальная дата: %s' % df3['EventTimestamp'].min().strftime(fmt_spec))\n",
    "print('Максимальная дата: %s' % df3['EventTimestamp'].max().strftime(fmt_spec))\n",
    "\n",
    "#гистограмма по дате и количеству событий.\n",
    "df_activity_by_date = df3.groupby([df3['EventTimestamp'].dt.date, 'ExpId']).size().rename('count').reset_index()\n",
    "# display(df_activity_by_date)\n",
    "ax = sns.barplot(df_activity_by_date, x='EventTimestamp', y='count', hue='ExpId')\n",
    "for i,lbl in enumerate(ax.get_xticklabels()):\n",
    "    if i not in[2,9]: lbl.set_rotation(60)\n",
    "    else: lbl.set_rotation(45+3*i)  # ;)\n",
    "ax.set_xlabel(dth[ax.get_xlabel()])\n",
    "\n",
    "df4 = df3[df3['EventTimestamp'] >= pd.Timestamp('2019-08-01')]\n",
    "print('отсеяно %d событий до начала теста' % (df3.index.size-df4.index.size))"
   ]
  },
  {
   "cell_type": "code",
   "execution_count": 257,
   "metadata": {
    "scrolled": false
   },
   "outputs": [
    {
     "name": "stdout",
     "output_type": "stream",
     "text": [
      "какие события и в каком количестве:\n"
     ]
    },
    {
     "data": {
      "text/html": [
       "<div>\n",
       "<style scoped>\n",
       "    .dataframe tbody tr th:only-of-type {\n",
       "        vertical-align: middle;\n",
       "    }\n",
       "\n",
       "    .dataframe tbody tr th {\n",
       "        vertical-align: top;\n",
       "    }\n",
       "\n",
       "    .dataframe thead th {\n",
       "        text-align: right;\n",
       "    }\n",
       "</style>\n",
       "<table border=\"1\" class=\"dataframe\">\n",
       "  <thead>\n",
       "    <tr style=\"text-align: right;\">\n",
       "      <th>ExpId</th>\n",
       "      <th>246</th>\n",
       "      <th>247</th>\n",
       "      <th>248</th>\n",
       "    </tr>\n",
       "    <tr>\n",
       "      <th>EventName</th>\n",
       "      <th></th>\n",
       "      <th></th>\n",
       "      <th></th>\n",
       "    </tr>\n",
       "  </thead>\n",
       "  <tbody>\n",
       "    <tr>\n",
       "      <th>MainScreenAppear</th>\n",
       "      <td>36082</td>\n",
       "      <td>37835</td>\n",
       "      <td>39347</td>\n",
       "    </tr>\n",
       "    <tr>\n",
       "      <th>OffersScreenAppear</th>\n",
       "      <td>13267</td>\n",
       "      <td>13516</td>\n",
       "      <td>14173</td>\n",
       "    </tr>\n",
       "    <tr>\n",
       "      <th>CartScreenAppear</th>\n",
       "      <td>10082</td>\n",
       "      <td>9415</td>\n",
       "      <td>9753</td>\n",
       "    </tr>\n",
       "    <tr>\n",
       "      <th>PaymentScreenSuccessful</th>\n",
       "      <td>7676</td>\n",
       "      <td>7199</td>\n",
       "      <td>7289</td>\n",
       "    </tr>\n",
       "  </tbody>\n",
       "</table>\n",
       "</div>"
      ],
      "text/plain": [
       "ExpId                      246    247    248\n",
       "EventName                                   \n",
       "MainScreenAppear         36082  37835  39347\n",
       "OffersScreenAppear       13267  13516  14173\n",
       "CartScreenAppear         10082   9415   9753\n",
       "PaymentScreenSuccessful   7676   7199   7289"
      ]
     },
     "metadata": {},
     "output_type": "display_data"
    },
    {
     "name": "stdout",
     "output_type": "stream",
     "text": [
      "Сколько пользователей совершали каждое из этих событий:\n"
     ]
    },
    {
     "data": {
      "text/html": [
       "<div>\n",
       "<style scoped>\n",
       "    .dataframe tbody tr th:only-of-type {\n",
       "        vertical-align: middle;\n",
       "    }\n",
       "\n",
       "    .dataframe tbody tr th {\n",
       "        vertical-align: top;\n",
       "    }\n",
       "\n",
       "    .dataframe thead th {\n",
       "        text-align: right;\n",
       "    }\n",
       "</style>\n",
       "<table border=\"1\" class=\"dataframe\">\n",
       "  <thead>\n",
       "    <tr style=\"text-align: right;\">\n",
       "      <th>ExpId</th>\n",
       "      <th>246</th>\n",
       "      <th>247</th>\n",
       "      <th>248</th>\n",
       "    </tr>\n",
       "    <tr>\n",
       "      <th>EventName</th>\n",
       "      <th></th>\n",
       "      <th></th>\n",
       "      <th></th>\n",
       "    </tr>\n",
       "  </thead>\n",
       "  <tbody>\n",
       "    <tr>\n",
       "      <th>MainScreenAppear</th>\n",
       "      <td>2423</td>\n",
       "      <td>2454</td>\n",
       "      <td>2467</td>\n",
       "    </tr>\n",
       "    <tr>\n",
       "      <th>OffersScreenAppear</th>\n",
       "      <td>1514</td>\n",
       "      <td>1498</td>\n",
       "      <td>1505</td>\n",
       "    </tr>\n",
       "    <tr>\n",
       "      <th>CartScreenAppear</th>\n",
       "      <td>1238</td>\n",
       "      <td>1216</td>\n",
       "      <td>1204</td>\n",
       "    </tr>\n",
       "    <tr>\n",
       "      <th>PaymentScreenSuccessful</th>\n",
       "      <td>1172</td>\n",
       "      <td>1136</td>\n",
       "      <td>1155</td>\n",
       "    </tr>\n",
       "  </tbody>\n",
       "</table>\n",
       "</div>"
      ],
      "text/plain": [
       "ExpId                     246   247   248\n",
       "EventName                                \n",
       "MainScreenAppear         2423  2454  2467\n",
       "OffersScreenAppear       1514  1498  1505\n",
       "CartScreenAppear         1238  1216  1204\n",
       "PaymentScreenSuccessful  1172  1136  1155"
      ]
     },
     "metadata": {},
     "output_type": "display_data"
    },
    {
     "name": "stdout",
     "output_type": "stream",
     "text": [
      "какая доля пользователей проходит на следующий шаг воронки:\n"
     ]
    },
    {
     "data": {
      "text/html": [
       "<div>\n",
       "<style scoped>\n",
       "    .dataframe tbody tr th:only-of-type {\n",
       "        vertical-align: middle;\n",
       "    }\n",
       "\n",
       "    .dataframe tbody tr th {\n",
       "        vertical-align: top;\n",
       "    }\n",
       "\n",
       "    .dataframe thead th {\n",
       "        text-align: right;\n",
       "    }\n",
       "</style>\n",
       "<table border=\"1\" class=\"dataframe\">\n",
       "  <thead>\n",
       "    <tr style=\"text-align: right;\">\n",
       "      <th></th>\n",
       "      <th>246</th>\n",
       "      <th>247</th>\n",
       "      <th>248</th>\n",
       "    </tr>\n",
       "  </thead>\n",
       "  <tbody>\n",
       "    <tr>\n",
       "      <th>Main-&gt;Offers</th>\n",
       "      <td>0.624845</td>\n",
       "      <td>0.610432</td>\n",
       "      <td>0.610053</td>\n",
       "    </tr>\n",
       "    <tr>\n",
       "      <th>Offers-&gt;Cart</th>\n",
       "      <td>0.817701</td>\n",
       "      <td>0.811749</td>\n",
       "      <td>0.800000</td>\n",
       "    </tr>\n",
       "    <tr>\n",
       "      <th>Cart-&gt;Payment</th>\n",
       "      <td>0.946688</td>\n",
       "      <td>0.934211</td>\n",
       "      <td>0.959302</td>\n",
       "    </tr>\n",
       "  </tbody>\n",
       "</table>\n",
       "</div>"
      ],
      "text/plain": [
       "                    246       247       248\n",
       "Main->Offers   0.624845  0.610432  0.610053\n",
       "Offers->Cart   0.817701  0.811749  0.800000\n",
       "Cart->Payment  0.946688  0.934211  0.959302"
      ]
     },
     "metadata": {},
     "output_type": "display_data"
    },
    {
     "name": "stdout",
     "output_type": "stream",
     "text": [
      "На каком шаге теряете больше всего пользователей:\n"
     ]
    },
    {
     "data": {
      "text/html": [
       "<div>\n",
       "<style scoped>\n",
       "    .dataframe tbody tr th:only-of-type {\n",
       "        vertical-align: middle;\n",
       "    }\n",
       "\n",
       "    .dataframe tbody tr th {\n",
       "        vertical-align: top;\n",
       "    }\n",
       "\n",
       "    .dataframe thead th {\n",
       "        text-align: right;\n",
       "    }\n",
       "</style>\n",
       "<table border=\"1\" class=\"dataframe\">\n",
       "  <thead>\n",
       "    <tr style=\"text-align: right;\">\n",
       "      <th></th>\n",
       "      <th>246</th>\n",
       "      <th>247</th>\n",
       "      <th>248</th>\n",
       "    </tr>\n",
       "  </thead>\n",
       "  <tbody>\n",
       "    <tr>\n",
       "      <th>&lt;lambda&gt;</th>\n",
       "      <td>Main-&gt;Offers</td>\n",
       "      <td>Main-&gt;Offers</td>\n",
       "      <td>Main-&gt;Offers</td>\n",
       "    </tr>\n",
       "  </tbody>\n",
       "</table>\n",
       "</div>"
      ],
      "text/plain": [
       "                   246           247           248\n",
       "<lambda>  Main->Offers  Main->Offers  Main->Offers"
      ]
     },
     "metadata": {},
     "output_type": "display_data"
    },
    {
     "name": "stdout",
     "output_type": "stream",
     "text": [
      "Какая доля пользователей доходит от первого события до оплаты:\n"
     ]
    },
    {
     "data": {
      "text/html": [
       "<div>\n",
       "<style scoped>\n",
       "    .dataframe tbody tr th:only-of-type {\n",
       "        vertical-align: middle;\n",
       "    }\n",
       "\n",
       "    .dataframe tbody tr th {\n",
       "        vertical-align: top;\n",
       "    }\n",
       "\n",
       "    .dataframe thead th {\n",
       "        text-align: right;\n",
       "    }\n",
       "</style>\n",
       "<table border=\"1\" class=\"dataframe\">\n",
       "  <thead>\n",
       "    <tr style=\"text-align: right;\">\n",
       "      <th></th>\n",
       "      <th>246</th>\n",
       "      <th>247</th>\n",
       "      <th>248</th>\n",
       "    </tr>\n",
       "  </thead>\n",
       "  <tbody>\n",
       "    <tr>\n",
       "      <th>&lt;lambda&gt;</th>\n",
       "      <td>0.483698</td>\n",
       "      <td>0.462918</td>\n",
       "      <td>0.46818</td>\n",
       "    </tr>\n",
       "  </tbody>\n",
       "</table>\n",
       "</div>"
      ],
      "text/plain": [
       "               246       247      248\n",
       "<lambda>  0.483698  0.462918  0.46818"
      ]
     },
     "metadata": {},
     "output_type": "display_data"
    },
    {
     "data": {
      "image/png": "[encoded data removed]",
      "text/plain": [
       "<Figure size 640x480 with 1 Axes>"
      ]
     },
     "metadata": {},
     "output_type": "display_data"
    }
   ],
   "source": [
    "# Шаг 4. Анализ воронки событий\n",
    "# Распределение событий: какие события и в каком количестве.\n",
    "df_evt_distr = df4.groupby(['EventName', 'ExpId'], observed=True) \\\n",
    "                  .agg(unique_users=('DeviceIDHash', 'nunique'),\n",
    "                       events=('DeviceIDHash', 'size')).unstack()#.reset_index()\n",
    "print('какие события и в каком количестве:')\n",
    "display(df_evt_distr['events'])\n",
    "\n",
    "# Сколько пользователей совершали каждое из этих событий?\n",
    "unique_users = df_evt_distr['unique_users']\n",
    "print('Сколько пользователей совершали каждое из этих событий:')\n",
    "display(unique_users)\n",
    "\n",
    "# Постройте воронку событий: какая доля пользователей проходит на следующий шаг воронки. \n",
    "sns.barplot(unique_users.stack().reset_index().rename(columns={0:'count'}), y='EventName', x='count', hue='ExpId')\n",
    "plt.title('Воронка продаж')\n",
    "\n",
    "dict_conversion = dict()\n",
    "for k,d in unique_users.items():\n",
    "    d = list(d)\n",
    "    dict_conversion[k] = [r/l for l,r in zip(d[:-1], d[1:])]\n",
    "print('какая доля пользователей проходит на следующий шаг воронки:')\n",
    "df_conv = pd.DataFrame(dict_conversion, \n",
    "                       index=map('->'.join, (lambda l: zip(l[:-1], l[1:]))(list(map(lambda x: x.split('S')[0], unique_users.index)))) )\n",
    "display(df_conv)\n",
    "\n",
    "# На каком шаге теряете больше всего пользователей? Какая доля пользователей доходит от первого события до оплаты?\n",
    "print('На каком шаге теряете больше всего пользователей:')\n",
    "display(df_conv.agg([lambda s: s.index[s.argmin()]]))\n",
    "\n",
    "print('Какая доля пользователей доходит от первого события до оплаты:')\n",
    "display(df_conv.agg([lambda s: s.product()]))"
   ]
  },
  {
   "cell_type": "code",
   "execution_count": 267,
   "metadata": {},
   "outputs": [
    {
     "name": "stdout",
     "output_type": "stream",
     "text": [
      "Сколько пользователей в каждой группе:\n"
     ]
    },
    {
     "data": {
      "text/html": [
       "<div>\n",
       "<style scoped>\n",
       "    .dataframe tbody tr th:only-of-type {\n",
       "        vertical-align: middle;\n",
       "    }\n",
       "\n",
       "    .dataframe tbody tr th {\n",
       "        vertical-align: top;\n",
       "    }\n",
       "\n",
       "    .dataframe thead th {\n",
       "        text-align: right;\n",
       "    }\n",
       "</style>\n",
       "<table border=\"1\" class=\"dataframe\">\n",
       "  <thead>\n",
       "    <tr style=\"text-align: right;\">\n",
       "      <th></th>\n",
       "      <th>nunique</th>\n",
       "    </tr>\n",
       "    <tr>\n",
       "      <th>ExpId</th>\n",
       "      <th></th>\n",
       "    </tr>\n",
       "  </thead>\n",
       "  <tbody>\n",
       "    <tr>\n",
       "      <th>246</th>\n",
       "      <td>2455</td>\n",
       "    </tr>\n",
       "    <tr>\n",
       "      <th>247</th>\n",
       "      <td>2490</td>\n",
       "    </tr>\n",
       "    <tr>\n",
       "      <th>248</th>\n",
       "      <td>2509</td>\n",
       "    </tr>\n",
       "  </tbody>\n",
       "</table>\n",
       "</div>"
      ],
      "text/plain": [
       "       nunique\n",
       "ExpId         \n",
       "246       2455\n",
       "247       2490\n",
       "248       2509"
      ]
     },
     "metadata": {},
     "output_type": "display_data"
    },
    {
     "name": "stdout",
     "output_type": "stream",
     "text": [
      "доли пользователей, совершивших каждое из событий:\n"
     ]
    },
    {
     "data": {
      "text/html": [
       "<div>\n",
       "<style scoped>\n",
       "    .dataframe tbody tr th:only-of-type {\n",
       "        vertical-align: middle;\n",
       "    }\n",
       "\n",
       "    .dataframe tbody tr th {\n",
       "        vertical-align: top;\n",
       "    }\n",
       "\n",
       "    .dataframe thead th {\n",
       "        text-align: right;\n",
       "    }\n",
       "</style>\n",
       "<table border=\"1\" class=\"dataframe\">\n",
       "  <thead>\n",
       "    <tr style=\"text-align: right;\">\n",
       "      <th>ExpId</th>\n",
       "      <th>246</th>\n",
       "      <th>247</th>\n",
       "      <th>248</th>\n",
       "    </tr>\n",
       "    <tr>\n",
       "      <th>EventName</th>\n",
       "      <th></th>\n",
       "      <th></th>\n",
       "      <th></th>\n",
       "    </tr>\n",
       "  </thead>\n",
       "  <tbody>\n",
       "    <tr>\n",
       "      <th>MainScreenAppear</th>\n",
       "      <td>1.000000</td>\n",
       "      <td>1.000000</td>\n",
       "      <td>1.000000</td>\n",
       "    </tr>\n",
       "    <tr>\n",
       "      <th>OffersScreenAppear</th>\n",
       "      <td>0.624845</td>\n",
       "      <td>0.610432</td>\n",
       "      <td>0.610053</td>\n",
       "    </tr>\n",
       "    <tr>\n",
       "      <th>CartScreenAppear</th>\n",
       "      <td>0.510937</td>\n",
       "      <td>0.495518</td>\n",
       "      <td>0.488042</td>\n",
       "    </tr>\n",
       "    <tr>\n",
       "      <th>PaymentScreenSuccessful</th>\n",
       "      <td>0.483698</td>\n",
       "      <td>0.462918</td>\n",
       "      <td>0.468180</td>\n",
       "    </tr>\n",
       "  </tbody>\n",
       "</table>\n",
       "</div>"
      ],
      "text/plain": [
       "ExpId                         246       247       248\n",
       "EventName                                            \n",
       "MainScreenAppear         1.000000  1.000000  1.000000\n",
       "OffersScreenAppear       0.624845  0.610432  0.610053\n",
       "CartScreenAppear         0.510937  0.495518  0.488042\n",
       "PaymentScreenSuccessful  0.483698  0.462918  0.468180"
      ]
     },
     "metadata": {},
     "output_type": "display_data"
    }
   ],
   "source": [
    "# Шаг 5. Анализ результатов эксперимента\n",
    "# Сколько пользователей в каждой группе?\n",
    "print('Сколько пользователей в каждой группе:')\n",
    "display(df4.groupby('ExpId')['DeviceIDHash'].agg(['nunique']))\n",
    "\n",
    "# Посчитайте долю пользователей, совершивших каждое из событий.\n",
    "print('доли пользователей, совершивших каждое из событий:')\n",
    "display(df4.groupby(['EventName', 'ExpId'], observed=True)['DeviceIDHash'].agg('nunique').unstack().transform(lambda s: s/s.max()))\n",
    "\n",
    "# Проверьте гипотезу о наличие значимых отличий по результатам теста.\n"
   ]
  },
  {
   "cell_type": "code",
   "execution_count": null,
   "metadata": {},
   "outputs": [],
   "source": []
  }
 ],
 "metadata": {
  "colab": {
   "provenance": []
  },
  "kernelspec": {
   "display_name": "Python 3 (ipykernel)",
   "language": "python",
   "name": "python3"
  },
  "language_info": {
   "codemirror_mode": {
    "name": "ipython",
    "version": 3
   },
   "file_extension": ".py",
   "mimetype": "text/x-python",
   "name": "python",
   "nbconvert_exporter": "python",
   "pygments_lexer": "ipython3",
   "version": "3.7.7"
  }
 },
 "nbformat": 4,
 "nbformat_minor": 1
}
